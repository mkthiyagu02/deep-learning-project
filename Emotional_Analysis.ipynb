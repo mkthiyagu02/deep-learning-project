{
  "cells": [
    {
      "cell_type": "markdown",
      "source": [
        "\n",
        "## **EMOTIONAL ANALYTICS IN AI**\n",
        "\n",
        "\n"
      ],
      "metadata": {
        "id": "hEu9T0_1qxZ3"
      }
    },
    {
      "cell_type": "markdown",
      "source": [
        "Aim"
      ],
      "metadata": {
        "id": "JSRvMb-Zq9L1"
      }
    },
    {
      "cell_type": "markdown",
      "source": [
        "To Develop, train and test a VGG16 Network MODEL on the FER2013 dataset to predict the facial emotions from the videos of facial emotions."
      ],
      "metadata": {
        "id": "zlCILLFSrD2F"
      }
    },
    {
      "cell_type": "markdown",
      "source": [
        "# **Objective**\n",
        "\n",
        "1. To load the FER2013 Dataset as a CSV file using pandas.\n",
        "2. To Create a Data Pipeline using Tensorflow on the dataframe.\n",
        "3. To Split the dataset into train, validation, and test sets.\n",
        "4. To Preprocess the dataset inorder to transform the videos in the specified   shape and to encode the class labels using one hot encoding.\n",
        "5. To Visualize few samples from the dataset.\n",
        "6. To Import VGG16 pre-trained model using Keras API in tensorflow.\n",
        "7. To Freeze all other layers and train only the output layer.\n",
        "8. To ploting the ouput and the model.\n",
        "9. To find the accuracy of the output.\n",
        "10. Test the output in video testing.  \n",
        "11. To Evaluate the model and save the model. \n",
        "\n"
      ],
      "metadata": {
        "id": "RyZSuDg9tiwL"
      }
    },
    {
      "cell_type": "markdown",
      "source": [
        "# **About VGG16 Model**\n"
      ],
      "metadata": {
        "id": "8Of-4kO2uiuF"
      }
    },
    {
      "cell_type": "markdown",
      "source": [
        "1.   VGG-16 is a convolutional neural network that is 16 layers deep.\n",
        "   You can load a pretrained version of the network trained on more than a million images from the ImageNet database. \n",
        "2.   VGG16 was used to win **ILSVR(Imagenet) competition** in 2014. It is considered to be one of the excellent vision model architecture till date.\n",
        "3.    Most unique thing about VGG16 is that instead of having a large number of hyper-parameter they focused on having convolution layers of 3x3 filter with a stride 1 and always used **same padding** and **maxpool layer of 2x2 filter of stride 2.**\n",
        "4.   It follows this arrangement of convolution and max pool layers consistently throughout the whole architecture. In the end it has 2 FC(fully connected layers) followed by a softmax for output.\n",
        "5.   The 16 in VGG16 refers to it has 16 layers that have weights. This network is a pretty large network and it has about ***138 million*** (approx) parameters.\n",
        "6.    The pretrained network can classify images into 1000 object categories, such as keyboard, mouse, pencil, and many animals.\n",
        "\n"
      ],
      "metadata": {
        "id": "i5brxP9Junk0"
      }
    },
    {
      "cell_type": "markdown",
      "source": [
        "## **References:**"
      ],
      "metadata": {
        "id": "ZEvBpHHcvXok"
      }
    },
    {
      "cell_type": "markdown",
      "source": [
        "[1] [Implementing Transfer Learning with VGG16](https://github.com/krishnaik06/Transfer-Learning)\n",
        "\n",
        "[2] [Convolutional Neural Network Hyperparameters optimization for Facial Emotion Recognition](https://doi.org/10.1109/ATEE52255.2021.9425073)\n",
        "\n",
        "[3] [Transfer learning using VGG-16 with Deep Convolutional Neural Network for Classifying Images](https://www.researchgate.net/profile/Srikanth-Tammina/publication/337105858_Transfer_learning_using_VGG-16_with_Deep_Convolutional_Neural_Network_for_Classifying_Images/links/5dc94c3ca6fdcc57503e6ad9/Transfer-learning-using-VGG-16-with-Deep-Convolutional-Neural-Network-for-Classifying-Images.pdf)\n",
        "\n",
        "[4] [Convolutional-Neural-Network-Hyperparameters-Optimization-for-Facial-Emotion-Recognition](https://github.com/jiantenggei/Convolutional-Neural-Network-Hyperparameters-Optimization-for-Facial-Emotion-Recognition)"
      ],
      "metadata": {
        "id": "QsRJFjtFva9z"
      }
    },
    {
      "cell_type": "markdown",
      "source": [
        "## **Dataset:**"
      ],
      "metadata": {
        "id": "A8dsXor6vxp7"
      }
    },
    {
      "cell_type": "markdown",
      "source": [
        "URL : https://www.kaggle.com/c/challenges-in-representation-learning-facial-expression-recognition-challenge/data\n"
      ],
      "metadata": {
        "id": "gFNSSKxvvfR3"
      }
    },
    {
      "cell_type": "markdown",
      "source": [
        "## **Implementation:**"
      ],
      "metadata": {
        "id": "Z3RCquKsv_pg"
      }
    },
    {
      "cell_type": "markdown",
      "source": [
        "## **Import modules**"
      ],
      "metadata": {
        "id": "h3eBfKj1wH4p"
      }
    },
    {
      "cell_type": "code",
      "execution_count": null,
      "metadata": {
        "id": "lyOq5c4OyOOp"
      },
      "outputs": [],
      "source": [
        "import matplotlib.pyplot as plt\n",
        "import tensorflow as tf\n",
        "import pandas as pd \n",
        "from tensorflow import keras\n",
        "from tensorflow.keras import layers\n",
        "from keras.layers import Input,Dense, Flatten,Dropout\n",
        "from keras.models import Model\n",
        "from tensorflow.keras.applications import VGG16"
      ]
    },
    {
      "cell_type": "markdown",
      "source": [
        "## **Download the Dataset**\n",
        "\n"
      ],
      "metadata": {
        "id": "-gvL3yw3wOqs"
      }
    },
    {
      "cell_type": "code",
      "execution_count": null,
      "metadata": {
        "colab": {
          "base_uri": "https://localhost:8080/"
        },
        "id": "GuXSuvQ9HIMy",
        "outputId": "9a710ddc-69f7-4793-b75d-65c9c0db7f5e"
      },
      "outputs": [
        {
          "output_type": "stream",
          "name": "stdout",
          "text": [
            "Downloading...\n",
            "From: https://drive.google.com/uc?id=13WrMBoMrjYkGg_TVKNKtJ8xtxoqhJ5qJ\n",
            "To: /content/fer2013.csv\n",
            "100% 301M/301M [00:03<00:00, 77.2MB/s]\n"
          ]
        }
      ],
      "source": [
        "!gdown 13WrMBoMrjYkGg_TVKNKtJ8xtxoqhJ5qJ"
      ]
    },
    {
      "cell_type": "markdown",
      "source": [
        "# **Loading the Dataset**"
      ],
      "metadata": {
        "id": "rF7jvMRKwlFh"
      }
    },
    {
      "cell_type": "code",
      "execution_count": null,
      "metadata": {
        "id": "0thnxjSnHuJZ"
      },
      "outputs": [],
      "source": [
        "df = pd.read_csv(\"fer2013.csv\")"
      ]
    },
    {
      "cell_type": "code",
      "execution_count": null,
      "metadata": {
        "colab": {
          "base_uri": "https://localhost:8080/",
          "height": 394
        },
        "id": "PxQjPwVBH20T",
        "outputId": "525edf32-f98b-4e33-c700-7d801491c5b7"
      },
      "outputs": [
        {
          "output_type": "execute_result",
          "data": {
            "text/plain": [
              "    emotion                                             pixels     Usage\n",
              "0         0  70 80 82 72 58 58 60 63 54 58 60 48 89 115 121...  Training\n",
              "1         0  151 150 147 155 148 133 111 140 170 174 182 15...  Training\n",
              "2         2  231 212 156 164 174 138 161 173 182 200 106 38...  Training\n",
              "3         4  24 32 36 30 32 23 19 20 30 41 21 22 32 34 21 1...  Training\n",
              "4         6  4 0 0 0 0 0 0 0 0 0 0 0 3 15 23 28 48 50 58 84...  Training\n",
              "5         2  55 55 55 55 55 54 60 68 54 85 151 163 170 179 ...  Training\n",
              "6         4  20 17 19 21 25 38 42 42 46 54 56 62 63 66 82 1...  Training\n",
              "7         3  77 78 79 79 78 75 60 55 47 48 58 73 77 79 57 5...  Training\n",
              "8         3  85 84 90 121 101 102 133 153 153 169 177 189 1...  Training\n",
              "9         2  255 254 255 254 254 179 122 107 95 124 149 150...  Training\n",
              "10        0  30 24 21 23 25 25 49 67 84 103 120 125 130 139...  Training"
            ],
            "text/html": [
              "\n",
              "  <div id=\"df-20923123-be65-40ec-8f95-cdd78795ecff\">\n",
              "    <div class=\"colab-df-container\">\n",
              "      <div>\n",
              "<style scoped>\n",
              "    .dataframe tbody tr th:only-of-type {\n",
              "        vertical-align: middle;\n",
              "    }\n",
              "\n",
              "    .dataframe tbody tr th {\n",
              "        vertical-align: top;\n",
              "    }\n",
              "\n",
              "    .dataframe thead th {\n",
              "        text-align: right;\n",
              "    }\n",
              "</style>\n",
              "<table border=\"1\" class=\"dataframe\">\n",
              "  <thead>\n",
              "    <tr style=\"text-align: right;\">\n",
              "      <th></th>\n",
              "      <th>emotion</th>\n",
              "      <th>pixels</th>\n",
              "      <th>Usage</th>\n",
              "    </tr>\n",
              "  </thead>\n",
              "  <tbody>\n",
              "    <tr>\n",
              "      <th>0</th>\n",
              "      <td>0</td>\n",
              "      <td>70 80 82 72 58 58 60 63 54 58 60 48 89 115 121...</td>\n",
              "      <td>Training</td>\n",
              "    </tr>\n",
              "    <tr>\n",
              "      <th>1</th>\n",
              "      <td>0</td>\n",
              "      <td>151 150 147 155 148 133 111 140 170 174 182 15...</td>\n",
              "      <td>Training</td>\n",
              "    </tr>\n",
              "    <tr>\n",
              "      <th>2</th>\n",
              "      <td>2</td>\n",
              "      <td>231 212 156 164 174 138 161 173 182 200 106 38...</td>\n",
              "      <td>Training</td>\n",
              "    </tr>\n",
              "    <tr>\n",
              "      <th>3</th>\n",
              "      <td>4</td>\n",
              "      <td>24 32 36 30 32 23 19 20 30 41 21 22 32 34 21 1...</td>\n",
              "      <td>Training</td>\n",
              "    </tr>\n",
              "    <tr>\n",
              "      <th>4</th>\n",
              "      <td>6</td>\n",
              "      <td>4 0 0 0 0 0 0 0 0 0 0 0 3 15 23 28 48 50 58 84...</td>\n",
              "      <td>Training</td>\n",
              "    </tr>\n",
              "    <tr>\n",
              "      <th>5</th>\n",
              "      <td>2</td>\n",
              "      <td>55 55 55 55 55 54 60 68 54 85 151 163 170 179 ...</td>\n",
              "      <td>Training</td>\n",
              "    </tr>\n",
              "    <tr>\n",
              "      <th>6</th>\n",
              "      <td>4</td>\n",
              "      <td>20 17 19 21 25 38 42 42 46 54 56 62 63 66 82 1...</td>\n",
              "      <td>Training</td>\n",
              "    </tr>\n",
              "    <tr>\n",
              "      <th>7</th>\n",
              "      <td>3</td>\n",
              "      <td>77 78 79 79 78 75 60 55 47 48 58 73 77 79 57 5...</td>\n",
              "      <td>Training</td>\n",
              "    </tr>\n",
              "    <tr>\n",
              "      <th>8</th>\n",
              "      <td>3</td>\n",
              "      <td>85 84 90 121 101 102 133 153 153 169 177 189 1...</td>\n",
              "      <td>Training</td>\n",
              "    </tr>\n",
              "    <tr>\n",
              "      <th>9</th>\n",
              "      <td>2</td>\n",
              "      <td>255 254 255 254 254 179 122 107 95 124 149 150...</td>\n",
              "      <td>Training</td>\n",
              "    </tr>\n",
              "    <tr>\n",
              "      <th>10</th>\n",
              "      <td>0</td>\n",
              "      <td>30 24 21 23 25 25 49 67 84 103 120 125 130 139...</td>\n",
              "      <td>Training</td>\n",
              "    </tr>\n",
              "  </tbody>\n",
              "</table>\n",
              "</div>\n",
              "      <button class=\"colab-df-convert\" onclick=\"convertToInteractive('df-20923123-be65-40ec-8f95-cdd78795ecff')\"\n",
              "              title=\"Convert this dataframe to an interactive table.\"\n",
              "              style=\"display:none;\">\n",
              "        \n",
              "  <svg xmlns=\"http://www.w3.org/2000/svg\" height=\"24px\"viewBox=\"0 0 24 24\"\n",
              "       width=\"24px\">\n",
              "    <path d=\"M0 0h24v24H0V0z\" fill=\"none\"/>\n",
              "    <path d=\"M18.56 5.44l.94 2.06.94-2.06 2.06-.94-2.06-.94-.94-2.06-.94 2.06-2.06.94zm-11 1L8.5 8.5l.94-2.06 2.06-.94-2.06-.94L8.5 2.5l-.94 2.06-2.06.94zm10 10l.94 2.06.94-2.06 2.06-.94-2.06-.94-.94-2.06-.94 2.06-2.06.94z\"/><path d=\"M17.41 7.96l-1.37-1.37c-.4-.4-.92-.59-1.43-.59-.52 0-1.04.2-1.43.59L10.3 9.45l-7.72 7.72c-.78.78-.78 2.05 0 2.83L4 21.41c.39.39.9.59 1.41.59.51 0 1.02-.2 1.41-.59l7.78-7.78 2.81-2.81c.8-.78.8-2.07 0-2.86zM5.41 20L4 18.59l7.72-7.72 1.47 1.35L5.41 20z\"/>\n",
              "  </svg>\n",
              "      </button>\n",
              "      \n",
              "  <style>\n",
              "    .colab-df-container {\n",
              "      display:flex;\n",
              "      flex-wrap:wrap;\n",
              "      gap: 12px;\n",
              "    }\n",
              "\n",
              "    .colab-df-convert {\n",
              "      background-color: #E8F0FE;\n",
              "      border: none;\n",
              "      border-radius: 50%;\n",
              "      cursor: pointer;\n",
              "      display: none;\n",
              "      fill: #1967D2;\n",
              "      height: 32px;\n",
              "      padding: 0 0 0 0;\n",
              "      width: 32px;\n",
              "    }\n",
              "\n",
              "    .colab-df-convert:hover {\n",
              "      background-color: #E2EBFA;\n",
              "      box-shadow: 0px 1px 2px rgba(60, 64, 67, 0.3), 0px 1px 3px 1px rgba(60, 64, 67, 0.15);\n",
              "      fill: #174EA6;\n",
              "    }\n",
              "\n",
              "    [theme=dark] .colab-df-convert {\n",
              "      background-color: #3B4455;\n",
              "      fill: #D2E3FC;\n",
              "    }\n",
              "\n",
              "    [theme=dark] .colab-df-convert:hover {\n",
              "      background-color: #434B5C;\n",
              "      box-shadow: 0px 1px 3px 1px rgba(0, 0, 0, 0.15);\n",
              "      filter: drop-shadow(0px 1px 2px rgba(0, 0, 0, 0.3));\n",
              "      fill: #FFFFFF;\n",
              "    }\n",
              "  </style>\n",
              "\n",
              "      <script>\n",
              "        const buttonEl =\n",
              "          document.querySelector('#df-20923123-be65-40ec-8f95-cdd78795ecff button.colab-df-convert');\n",
              "        buttonEl.style.display =\n",
              "          google.colab.kernel.accessAllowed ? 'block' : 'none';\n",
              "\n",
              "        async function convertToInteractive(key) {\n",
              "          const element = document.querySelector('#df-20923123-be65-40ec-8f95-cdd78795ecff');\n",
              "          const dataTable =\n",
              "            await google.colab.kernel.invokeFunction('convertToInteractive',\n",
              "                                                     [key], {});\n",
              "          if (!dataTable) return;\n",
              "\n",
              "          const docLinkHtml = 'Like what you see? Visit the ' +\n",
              "            '<a target=\"_blank\" href=https://colab.research.google.com/notebooks/data_table.ipynb>data table notebook</a>'\n",
              "            + ' to learn more about interactive tables.';\n",
              "          element.innerHTML = '';\n",
              "          dataTable['output_type'] = 'display_data';\n",
              "          await google.colab.output.renderOutput(dataTable, element);\n",
              "          const docLink = document.createElement('div');\n",
              "          docLink.innerHTML = docLinkHtml;\n",
              "          element.appendChild(docLink);\n",
              "        }\n",
              "      </script>\n",
              "    </div>\n",
              "  </div>\n",
              "  "
            ]
          },
          "metadata": {},
          "execution_count": 4
        }
      ],
      "source": [
        "df.head(11)"
      ]
    },
    {
      "cell_type": "code",
      "execution_count": null,
      "metadata": {
        "colab": {
          "base_uri": "https://localhost:8080/"
        },
        "id": "q5PhFWx5IFSk",
        "outputId": "b0fdabc2-b23c-4cfb-878c-d0b2611c0850"
      },
      "outputs": [
        {
          "output_type": "execute_result",
          "data": {
            "text/plain": [
              "emotion     int64\n",
              "pixels     object\n",
              "Usage      object\n",
              "dtype: object"
            ]
          },
          "metadata": {},
          "execution_count": 5
        }
      ],
      "source": [
        "df.dtypes"
      ]
    },
    {
      "cell_type": "code",
      "execution_count": null,
      "metadata": {
        "colab": {
          "base_uri": "https://localhost:8080/"
        },
        "id": "r_bpsQ7KOQQu",
        "outputId": "6a4042ec-b528-4d71-a5e8-2bf3eb25aa9d"
      },
      "outputs": [
        {
          "output_type": "execute_result",
          "data": {
            "text/plain": [
              "array([0, 2, 4, 6, 3, 5, 1])"
            ]
          },
          "metadata": {},
          "execution_count": 6
        }
      ],
      "source": [
        "df[\"emotion\"].unique()"
      ]
    },
    {
      "cell_type": "markdown",
      "source": [
        "# **Preprocessing the Dataset**"
      ],
      "metadata": {
        "id": "-1MGgnwlwsE1"
      }
    },
    {
      "cell_type": "code",
      "execution_count": null,
      "metadata": {
        "id": "5repgZieJcNO"
      },
      "outputs": [],
      "source": [
        "def preprocess(x):\n",
        "    \n",
        "    return (\n",
        "        tf.repeat(tf.reshape(tf.strings.to_number(tf.strings.split(x[\"pixels\"]),\"float64\")/255,(48,48,1)),3,axis=-1),\n",
        "        tf.one_hot(x[\"emotion\"],7,dtype=\"int32\")\n",
        "    )"
      ]
    },
    {
      "cell_type": "markdown",
      "source": [
        "# **Creating data pipeline**"
      ],
      "metadata": {
        "id": "cCu75p4gwy50"
      }
    },
    {
      "cell_type": "code",
      "execution_count": null,
      "metadata": {
        "colab": {
          "base_uri": "https://localhost:8080/"
        },
        "id": "ueUTZu3eKg_q",
        "outputId": "859a779e-5771-441e-f5a0-1a2b57a11fbb"
      },
      "outputs": [
        {
          "output_type": "stream",
          "name": "stdout",
          "text": [
            "<TensorSliceDataset element_spec={'emotion': TensorSpec(shape=(), dtype=tf.int64, name=None), 'pixels': TensorSpec(shape=(), dtype=tf.string, name=None), 'Usage': TensorSpec(shape=(), dtype=tf.string, name=None)}>\n"
          ]
        }
      ],
      "source": [
        "ds = tf.data.Dataset.from_tensor_slices(dict(df))\n",
        "print(ds)"
      ]
    },
    {
      "cell_type": "code",
      "execution_count": null,
      "metadata": {
        "id": "hs1iM6ZJKjzT"
      },
      "outputs": [],
      "source": [
        "train_ds = ds.filter(lambda x :x[\"Usage\"]==\"Training\").map(preprocess).batch(512).prefetch(tf.data.AUTOTUNE).cache()\n",
        "val_ds = ds.filter(lambda x :x[\"Usage\"]==\"PublicTest\").map(preprocess).batch(512).prefetch(tf.data.AUTOTUNE).cache()\n",
        "test_ds = ds.filter(lambda x :x[\"Usage\"]==\"PrivateTest\").map(preprocess).batch(512).prefetch(tf.data.AUTOTUNE).cache()"
      ]
    },
    {
      "cell_type": "code",
      "execution_count": null,
      "metadata": {
        "colab": {
          "base_uri": "https://localhost:8080/"
        },
        "id": "snmQgpTfMbin",
        "outputId": "e03dbb66-0708-48bf-a322-0f82f2d595b5"
      },
      "outputs": [
        {
          "output_type": "execute_result",
          "data": {
            "text/plain": [
              "<CacheDataset element_spec=(TensorSpec(shape=(None, 48, 48, 3), dtype=tf.float64, name=None), TensorSpec(shape=(None, 7), dtype=tf.int32, name=None))>"
            ]
          },
          "metadata": {},
          "execution_count": 10
        }
      ],
      "source": [
        "train_ds\n"
      ]
    },
    {
      "cell_type": "markdown",
      "source": [
        "# **Viewing samples from dataset**"
      ],
      "metadata": {
        "id": "gXd4ON2xw61Z"
      }
    },
    {
      "cell_type": "code",
      "execution_count": null,
      "metadata": {
        "colab": {
          "base_uri": "https://localhost:8080/",
          "height": 376
        },
        "id": "kMGGHyiOM8VS",
        "outputId": "f923d3c7-4cf2-4ab1-a2b3-ee600735839a"
      },
      "outputs": [
        {
          "output_type": "display_data",
          "data": {
            "text/plain": [
              "<Figure size 720x432 with 10 Axes>"
            ],
            "image/png": "[encoded data removed]"
          },
          "metadata": {
            "needs_background": "light"
          }
        }
      ],
      "source": [
        "emotion_name = [\"Anger\", \"Disgust\",\"Fear\",\"happy\",\"Sad\",\"Suprise\",\"neutral\"]\n",
        "plt.figure(figsize=(10,6))\n",
        "for i,(image,label) in enumerate(train_ds.unbatch().take(10)):\n",
        "    plt.subplot(2,5,i+1)\n",
        "    plt.imshow(tf.squeeze(image),cmap=\"gray\") # squeeze to 2d\n",
        "    plt.title(emotion_name[int(tf.argmax(label))])\n",
        "plt.tight_layout()"
      ]
    },
    {
      "cell_type": "markdown",
      "source": [
        "# **Import the Model**"
      ],
      "metadata": {
        "id": "DInKkdQgxAYx"
      }
    },
    {
      "cell_type": "code",
      "execution_count": null,
      "metadata": {
        "id": "8G5-6ytKBXBq",
        "colab": {
          "base_uri": "https://localhost:8080/"
        },
        "outputId": "8852ff05-200c-417c-9889-996a60c7011f"
      },
      "outputs": [
        {
          "output_type": "stream",
          "name": "stdout",
          "text": [
            "Downloading data from https://storage.googleapis.com/tensorflow/keras-applications/vgg16/vgg16_weights_tf_dim_ordering_tf_kernels_notop.h5\n",
            "58892288/58889256 [==============================] - 0s 0us/step\n",
            "58900480/58889256 [==============================] - 0s 0us/step\n"
          ]
        }
      ],
      "source": [
        "from tensorflow.keras.applications import VGG16\n",
        "vgg = VGG16(weights=\"imagenet\", include_top=False, input_shape=(48,48,3))"
      ]
    },
    {
      "cell_type": "code",
      "execution_count": null,
      "metadata": {
        "id": "be7bFGoxEgc8"
      },
      "outputs": [],
      "source": [
        "for layer in vgg.layers:\n",
        "  layer.trainable = False"
      ]
    },
    {
      "cell_type": "code",
      "execution_count": null,
      "metadata": {
        "colab": {
          "base_uri": "https://localhost:8080/"
        },
        "id": "Lu4x_p7WFqtb",
        "outputId": "e7c80cc2-fa42-4459-fc5d-e3754419e2ff"
      },
      "outputs": [
        {
          "output_type": "stream",
          "name": "stdout",
          "text": [
            "Model: \"model\"\n",
            "_________________________________________________________________\n",
            " Layer (type)                Output Shape              Param #   \n",
            "=================================================================\n",
            " input_1 (InputLayer)        [(None, 48, 48, 3)]       0         \n",
            "                                                                 \n",
            " block1_conv1 (Conv2D)       (None, 48, 48, 64)        1792      \n",
            "                                                                 \n",
            " block1_conv2 (Conv2D)       (None, 48, 48, 64)        36928     \n",
            "                                                                 \n",
            " block1_pool (MaxPooling2D)  (None, 24, 24, 64)        0         \n",
            "                                                                 \n",
            " block2_conv1 (Conv2D)       (None, 24, 24, 128)       73856     \n",
            "                                                                 \n",
            " block2_conv2 (Conv2D)       (None, 24, 24, 128)       147584    \n",
            "                                                                 \n",
            " block2_pool (MaxPooling2D)  (None, 12, 12, 128)       0         \n",
            "                                                                 \n",
            " block3_conv1 (Conv2D)       (None, 12, 12, 256)       295168    \n",
            "                                                                 \n",
            " block3_conv2 (Conv2D)       (None, 12, 12, 256)       590080    \n",
            "                                                                 \n",
            " block3_conv3 (Conv2D)       (None, 12, 12, 256)       590080    \n",
            "                                                                 \n",
            " block3_pool (MaxPooling2D)  (None, 6, 6, 256)         0         \n",
            "                                                                 \n",
            " block4_conv1 (Conv2D)       (None, 6, 6, 512)         1180160   \n",
            "                                                                 \n",
            " block4_conv2 (Conv2D)       (None, 6, 6, 512)         2359808   \n",
            "                                                                 \n",
            " block4_conv3 (Conv2D)       (None, 6, 6, 512)         2359808   \n",
            "                                                                 \n",
            " block4_pool (MaxPooling2D)  (None, 3, 3, 512)         0         \n",
            "                                                                 \n",
            " block5_conv1 (Conv2D)       (None, 3, 3, 512)         2359808   \n",
            "                                                                 \n",
            " block5_conv2 (Conv2D)       (None, 3, 3, 512)         2359808   \n",
            "                                                                 \n",
            " block5_conv3 (Conv2D)       (None, 3, 3, 512)         2359808   \n",
            "                                                                 \n",
            " block5_pool (MaxPooling2D)  (None, 1, 1, 512)         0         \n",
            "                                                                 \n",
            " flatten (Flatten)           (None, 512)               0         \n",
            "                                                                 \n",
            " dense (Dense)               (None, 256)               131328    \n",
            "                                                                 \n",
            " dense_1 (Dense)             (None, 128)               32896     \n",
            "                                                                 \n",
            " dense_2 (Dense)             (None, 64)                8256      \n",
            "                                                                 \n",
            " dense_3 (Dense)             (None, 32)                2080      \n",
            "                                                                 \n",
            " dense_4 (Dense)             (None, 7)                 231       \n",
            "                                                                 \n",
            "=================================================================\n",
            "Total params: 14,889,479\n",
            "Trainable params: 174,791\n",
            "Non-trainable params: 14,714,688\n",
            "_________________________________________________________________\n"
          ]
        }
      ],
      "source": [
        "\n",
        "x = Flatten()(vgg.output)\n",
        "# x = Dense(1000, activation='relu')(x)\n",
        "x = Dense(256, activation='relu')(x)\n",
        "\n",
        "x = Dense(128, activation='relu')(x)\n",
        "Dropout(0.5)(x)\n",
        "x = Dense(64, activation='relu')(x)\n",
        "Dropout(0.5)(x)\n",
        "x = Dense(32, activation='relu')(x)\n",
        "Dropout(0.5)(x)\n",
        "prediction = Dense(7, activation='softmax')(x)\n",
        "\n",
        "# create a model object\n",
        "model = Model(inputs=vgg.input, outputs=prediction)\n",
        "\n",
        "# view the structure of the model\n",
        "model.summary()"
      ]
    },
    {
      "cell_type": "code",
      "execution_count": null,
      "metadata": {
        "id": "FjGEJuBhGKsC"
      },
      "outputs": [],
      "source": [
        "model.compile(\n",
        "  loss='categorical_crossentropy',\n",
        "  optimizer='adam',\n",
        "  metrics=['accuracy']\n",
        ")"
      ]
    },
    {
      "cell_type": "code",
      "execution_count": null,
      "metadata": {
        "colab": {
          "base_uri": "https://localhost:8080/"
        },
        "id": "BhMBLzsWGDdl",
        "outputId": "4e6d2c1a-fb79-4d54-d45f-e28de0abcb65"
      },
      "outputs": [
        {
          "output_type": "stream",
          "name": "stdout",
          "text": [
            "Epoch 1/20\n",
            "57/57 [==============================] - 32s 320ms/step - loss: 1.7082 - accuracy: 0.3168 - val_loss: 1.6217 - val_accuracy: 0.3683\n",
            "Epoch 2/20\n",
            "57/57 [==============================] - 9s 165ms/step - loss: 1.5874 - accuracy: 0.3814 - val_loss: 1.5782 - val_accuracy: 0.3831\n",
            "Epoch 3/20\n",
            "57/57 [==============================] - 9s 158ms/step - loss: 1.5402 - accuracy: 0.4051 - val_loss: 1.5503 - val_accuracy: 0.3976\n",
            "Epoch 4/20\n",
            "57/57 [==============================] - 9s 161ms/step - loss: 1.5056 - accuracy: 0.4247 - val_loss: 1.5400 - val_accuracy: 0.4093\n",
            "Epoch 5/20\n",
            "57/57 [==============================] - 9s 161ms/step - loss: 1.4763 - accuracy: 0.4384 - val_loss: 1.5409 - val_accuracy: 0.4110\n",
            "Epoch 6/20\n",
            "57/57 [==============================] - 9s 160ms/step - loss: 1.4495 - accuracy: 0.4521 - val_loss: 1.5510 - val_accuracy: 0.4104\n",
            "Epoch 7/20\n",
            "57/57 [==============================] - 9s 159ms/step - loss: 1.4222 - accuracy: 0.4631 - val_loss: 1.5349 - val_accuracy: 0.4140\n",
            "Epoch 8/20\n",
            "57/57 [==============================] - 9s 157ms/step - loss: 1.3937 - accuracy: 0.4772 - val_loss: 1.5393 - val_accuracy: 0.4129\n",
            "Epoch 9/20\n",
            "57/57 [==============================] - 9s 155ms/step - loss: 1.3642 - accuracy: 0.4893 - val_loss: 1.5430 - val_accuracy: 0.4152\n",
            "Epoch 10/20\n",
            "57/57 [==============================] - 9s 155ms/step - loss: 1.3335 - accuracy: 0.5028 - val_loss: 1.5506 - val_accuracy: 0.4182\n",
            "Epoch 11/20\n",
            "57/57 [==============================] - 9s 155ms/step - loss: 1.3035 - accuracy: 0.5166 - val_loss: 1.5698 - val_accuracy: 0.4099\n",
            "Epoch 12/20\n",
            "57/57 [==============================] - 9s 157ms/step - loss: 1.2754 - accuracy: 0.5284 - val_loss: 1.5779 - val_accuracy: 0.4115\n"
          ]
        }
      ],
      "source": [
        "history=model.fit(train_ds,validation_data = val_ds,epochs=20,\n",
        "    callbacks=[\n",
        "        tf.keras.callbacks.EarlyStopping(monitor=\"val_loss\",patience=5,restore_best_weights=True)])"
      ]
    },
    {
      "cell_type": "markdown",
      "source": [
        "# **ploting the model**"
      ],
      "metadata": {
        "id": "VzNfurDuxLZm"
      }
    },
    {
      "cell_type": "code",
      "execution_count": null,
      "metadata": {
        "colab": {
          "base_uri": "https://localhost:8080/",
          "height": 312
        },
        "id": "axTShVmob3YA",
        "outputId": "1c3a0f67-ab90-4cdb-f80a-3aca01ec3212"
      },
      "outputs": [
        {
          "output_type": "execute_result",
          "data": {
            "text/plain": [
              "<matplotlib.legend.Legend at 0x7f013222cc10>"
            ]
          },
          "metadata": {},
          "execution_count": 17
        },
        {
          "output_type": "display_data",
          "data": {
            "text/plain": [
              "<Figure size 432x288 with 1 Axes>"
            ],
            "image/png": "[encoded data removed]"
          },
          "metadata": {
            "needs_background": "light"
          }
        }
      ],
      "source": [
        "plt.plot(history.history[\"accuracy\"])\n",
        "plt.plot(history.history[\"val_accuracy\"])\n",
        "plt.plot(history.history[\"loss\"])\n",
        "plt.plot(history.history[\"val_loss\"])\n",
        "plt.title(\"Model_accuracy\")\n",
        "plt.xlabel(\"epochs\")\n",
        "plt.ylabel(\"Accuracy\")\n",
        "plt.legend([\"Accuracy\",\"Validation Accuracy\",\"loss\",\"Validation Loss\"])"
      ]
    },
    {
      "cell_type": "markdown",
      "source": [
        "# **Calculate the accuracy**"
      ],
      "metadata": {
        "id": "dO3YBaHnxoN2"
      }
    },
    {
      "cell_type": "code",
      "execution_count": null,
      "metadata": {
        "colab": {
          "base_uri": "https://localhost:8080/"
        },
        "id": "IOoc7O9FSCZc",
        "outputId": "bba84c55-6f75-48e1-fdb6-d599fbb84768"
      },
      "outputs": [
        {
          "output_type": "stream",
          "name": "stdout",
          "text": [
            "8/8 [==============================] - 2s 140ms/step - loss: 1.5146 - accuracy: 0.4227\n",
            "Loss : 1.5145949125289917\n",
            "Accuracy :  0.42268040776252747\n"
          ]
        }
      ],
      "source": [
        "loss, accuracy = model.evaluate(test_ds)\n",
        "print(\"Loss :\", loss)\n",
        "print(\"Accuracy : \",accuracy)"
      ]
    },
    {
      "cell_type": "markdown",
      "source": [
        "# **Save the Model**"
      ],
      "metadata": {
        "id": "i3HQGkogx_pu"
      }
    },
    {
      "cell_type": "code",
      "execution_count": null,
      "metadata": {
        "id": "Wvz0UKx4cGz3"
      },
      "outputs": [],
      "source": [
        "#Saving the  model to  use it later on\n",
        "fer_json = model.to_json()\n",
        "with open(\"fer.json\", \"w\") as json_file:\n",
        "    json_file.write(fer_json)\n",
        "model.save_weights(\"fer.h5\")"
      ]
    },
    {
      "cell_type": "markdown",
      "source": [
        "# **video tester**"
      ],
      "metadata": {
        "id": "XBzvQLG8yUqe"
      }
    },
    {
      "cell_type": "code",
      "execution_count": null,
      "metadata": {
        "id": "sqQX8cSydXtW"
      },
      "outputs": [],
      "source": [
        "import os\n",
        "import cv2\n",
        "import numpy as np\n",
        "from keras.models import model_from_json\n",
        "from keras.preprocessing import image"
      ]
    },
    {
      "cell_type": "markdown",
      "source": [
        "# **Load the models and weights**"
      ],
      "metadata": {
        "id": "myVv3y8VyjDY"
      }
    },
    {
      "cell_type": "code",
      "execution_count": null,
      "metadata": {
        "id": "ONk1c3cidYM1"
      },
      "outputs": [],
      "source": [
        "#load model\n",
        "model = model_from_json(open(\"fer.json\", \"r\").read())\n",
        "#load weights\n",
        "model.load_weights('fer.h5')"
      ]
    },
    {
      "cell_type": "code",
      "execution_count": null,
      "metadata": {
        "id": "bJpvd24Udeu6"
      },
      "outputs": [],
      "source": [
        "face_haar_cascade = cv2.CascadeClassifier('haarcascade_frontalface_default.xml')"
      ]
    },
    {
      "cell_type": "markdown",
      "source": [
        "# **Video testing**"
      ],
      "metadata": {
        "id": "5VA6jdtCyrit"
      }
    },
    {
      "cell_type": "code",
      "execution_count": null,
      "metadata": {
        "id": "vDUHeoQxdh1T"
      },
      "outputs": [],
      "source": [
        "import os\n",
        "import cv2\n",
        "import numpy as np\n",
        "from keras.models import model_from_json\n",
        "from keras.preprocessing import image\n",
        "\n",
        "#load model\n",
        "model = model_from_json(open(\"fer.json\", \"r\").read())\n",
        "#load weights\n",
        "model.load_weights('fer.h5')\n",
        "\n",
        "\n",
        "face_haar_cascade = cv2.CascadeClassifier('haarcascade_frontalface_default.xml')\n",
        "\n",
        "\n",
        "cap=cv2.VideoCapture(0)\n",
        "\n",
        "while True:\n",
        "    ret,test_img=cap.read()# captures frame and returns boolean value and captured image\n",
        "    if not ret:\n",
        "        continue\n",
        "    gray_img= cv2.cvtColor(test_img, cv2.COLOR_BGR2GRAY)\n",
        "\n",
        "    faces_detected = face_haar_cascade.detectMultiScale(gray_img, 1.32, 5)\n",
        "\n",
        "\n",
        "    for (x,y,w,h) in faces_detected:\n",
        "        cv2.rectangle(test_img,(x,y),(x+w,y+h),(255,0,0),thickness=7)\n",
        "        roi_gray=gray_img[y:y+w,x:x+h]#cropping region of interest i.e. face area from  image\n",
        "        roi_gray=cv2.resize(roi_gray,(48,48))\n",
        "        img_pixels = np.asarray(roi_gray)\n",
        "        img_pixels = np.expand_dims(img_pixels, axis = 0)\n",
        "        img_pixels /= 255\n",
        "\n",
        "        predictions = model.predict(img_pixels)\n",
        "\n",
        "        #find max indexed array\n",
        "        max_index = np.argmax(predictions[0])\n",
        "\n",
        "        emotions = ('angry', 'disgust', 'fear', 'happy', 'sad', 'surprise', 'neutral')\n",
        "        predicted_emotion = emotions[max_index]\n",
        "\n",
        "        cv2.putText(test_img, predicted_emotion, (int(x), int(y)), cv2.FONT_HERSHEY_SIMPLEX, 1, (0,0,255), 2)\n",
        "\n",
        "    resized_img = cv2.resize(test_img, (1000, 700))\n",
        "    cv2.imshow('Facial emotion analysis ',resized_img)\n",
        "\n",
        "\n",
        "\n",
        "    if cv2.waitKey(10) == ord('q'):#wait until 'q' key is pressed\n",
        "        break\n",
        "\n",
        "cap.release()\n",
        "cv2.destroyAllWindows"
      ]
    },
    {
      "cell_type": "markdown",
      "source": [
        "# **Results:**"
      ],
      "metadata": {
        "id": "-P32l22yy2tN"
      }
    },
    {
      "cell_type": "markdown",
      "source": [
        "Thus the Emotion analysis from a video by using facial expression is loadded succesfully. "
      ],
      "metadata": {
        "id": "IMQBIjjsziU1"
      }
    }
  ],
  "metadata": {
    "accelerator": "GPU",
    "colab": {
      "collapsed_sections": [],
      "name": "Emotional Analysis.ipynb",
      "provenance": []
    },
    "kernelspec": {
      "display_name": "Python 3",
      "name": "python3"
    },
    "language_info": {
      "name": "python"
    }
  },
  "nbformat": 4,
  "nbformat_minor": 0
}